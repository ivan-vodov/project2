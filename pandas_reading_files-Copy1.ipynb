{
 "cells": [
  {
   "cell_type": "code",
   "execution_count": 1,
   "metadata": {},
   "outputs": [],
   "source": [
    "# Dependencies\n",
    "import seaborn as sb\n",
    "import pandas as pd\n",
    "import matplotlib as plt"
   ]
  },
  {
   "cell_type": "code",
   "execution_count": 2,
   "metadata": {},
   "outputs": [],
   "source": [
    "# Store filepath in a variable\n",
    "file = \"Officer_Traffic_Stops_Charlotte.csv\""
   ]
  },
  {
   "cell_type": "code",
   "execution_count": 3,
   "metadata": {},
   "outputs": [],
   "source": [
    "# Read our Data file with the pandas library\n",
    "# Not every CSV requires an encoding, but be aware this can come up\n",
    "file_df = pd.read_csv(file)"
   ]
  },
  {
   "cell_type": "code",
   "execution_count": 4,
   "metadata": {},
   "outputs": [
    {
     "data": {
      "text/html": [
       "<div>\n",
       "<style scoped>\n",
       "    .dataframe tbody tr th:only-of-type {\n",
       "        vertical-align: middle;\n",
       "    }\n",
       "\n",
       "    .dataframe tbody tr th {\n",
       "        vertical-align: top;\n",
       "    }\n",
       "\n",
       "    .dataframe thead th {\n",
       "        text-align: right;\n",
       "    }\n",
       "</style>\n",
       "<table border=\"1\" class=\"dataframe\">\n",
       "  <thead>\n",
       "    <tr style=\"text-align: right;\">\n",
       "      <th></th>\n",
       "      <th>Month_of_Stop</th>\n",
       "      <th>Reason_for_Stop</th>\n",
       "      <th>Officer_Race</th>\n",
       "      <th>Officer_Gender</th>\n",
       "      <th>Officer_Years_of_Service</th>\n",
       "      <th>Driver_Race</th>\n",
       "      <th>Driver_Ethnicity</th>\n",
       "      <th>Driver_Gender</th>\n",
       "      <th>Driver_Age</th>\n",
       "      <th>Was_a_Search_Conducted</th>\n",
       "      <th>Result_of_Stop</th>\n",
       "      <th>CMPD_Division</th>\n",
       "      <th>ObjectID</th>\n",
       "      <th>CreationDate</th>\n",
       "      <th>Creator</th>\n",
       "      <th>EditDate</th>\n",
       "      <th>Editor</th>\n",
       "    </tr>\n",
       "  </thead>\n",
       "  <tbody>\n",
       "    <tr>\n",
       "      <th>0</th>\n",
       "      <td>2017/10</td>\n",
       "      <td>Speeding</td>\n",
       "      <td>White</td>\n",
       "      <td>Male</td>\n",
       "      <td>3.0</td>\n",
       "      <td>White</td>\n",
       "      <td>Non-Hispanic</td>\n",
       "      <td>Female</td>\n",
       "      <td>22</td>\n",
       "      <td>No</td>\n",
       "      <td>Citation Issued</td>\n",
       "      <td>Providence Division</td>\n",
       "      <td>1001</td>\n",
       "      <td>2018-06-05T09:01:41.911Z</td>\n",
       "      <td>CharlotteNC</td>\n",
       "      <td>2018-06-05T09:01:41.911Z</td>\n",
       "      <td>CharlotteNC</td>\n",
       "    </tr>\n",
       "    <tr>\n",
       "      <th>1</th>\n",
       "      <td>2017/10</td>\n",
       "      <td>Vehicle Regulatory</td>\n",
       "      <td>White</td>\n",
       "      <td>Male</td>\n",
       "      <td>9.0</td>\n",
       "      <td>Black</td>\n",
       "      <td>Non-Hispanic</td>\n",
       "      <td>Female</td>\n",
       "      <td>21</td>\n",
       "      <td>No</td>\n",
       "      <td>Citation Issued</td>\n",
       "      <td>Hickory Grove Division</td>\n",
       "      <td>1002</td>\n",
       "      <td>2018-06-05T09:01:41.911Z</td>\n",
       "      <td>CharlotteNC</td>\n",
       "      <td>2018-06-05T09:01:41.911Z</td>\n",
       "      <td>CharlotteNC</td>\n",
       "    </tr>\n",
       "    <tr>\n",
       "      <th>2</th>\n",
       "      <td>2017/10</td>\n",
       "      <td>Vehicle Equipment</td>\n",
       "      <td>White</td>\n",
       "      <td>Male</td>\n",
       "      <td>9.0</td>\n",
       "      <td>Black</td>\n",
       "      <td>Non-Hispanic</td>\n",
       "      <td>Female</td>\n",
       "      <td>30</td>\n",
       "      <td>No</td>\n",
       "      <td>Verbal Warning</td>\n",
       "      <td>South Division</td>\n",
       "      <td>1003</td>\n",
       "      <td>2018-06-05T09:01:41.911Z</td>\n",
       "      <td>CharlotteNC</td>\n",
       "      <td>2018-06-05T09:01:41.911Z</td>\n",
       "      <td>CharlotteNC</td>\n",
       "    </tr>\n",
       "    <tr>\n",
       "      <th>3</th>\n",
       "      <td>2017/10</td>\n",
       "      <td>Speeding</td>\n",
       "      <td>Asian / Pacific Islander</td>\n",
       "      <td>Male</td>\n",
       "      <td>21.0</td>\n",
       "      <td>White</td>\n",
       "      <td>Non-Hispanic</td>\n",
       "      <td>Male</td>\n",
       "      <td>23</td>\n",
       "      <td>Yes</td>\n",
       "      <td>Arrest</td>\n",
       "      <td>Providence Division</td>\n",
       "      <td>1004</td>\n",
       "      <td>2018-06-05T09:01:41.911Z</td>\n",
       "      <td>CharlotteNC</td>\n",
       "      <td>2018-06-05T09:01:41.911Z</td>\n",
       "      <td>CharlotteNC</td>\n",
       "    </tr>\n",
       "    <tr>\n",
       "      <th>4</th>\n",
       "      <td>2017/10</td>\n",
       "      <td>Safe Movement</td>\n",
       "      <td>White</td>\n",
       "      <td>Male</td>\n",
       "      <td>19.0</td>\n",
       "      <td>Black</td>\n",
       "      <td>Non-Hispanic</td>\n",
       "      <td>Male</td>\n",
       "      <td>26</td>\n",
       "      <td>No</td>\n",
       "      <td>Verbal Warning</td>\n",
       "      <td>Westover Division</td>\n",
       "      <td>1005</td>\n",
       "      <td>2018-06-05T09:01:41.911Z</td>\n",
       "      <td>CharlotteNC</td>\n",
       "      <td>2018-06-05T09:01:41.911Z</td>\n",
       "      <td>CharlotteNC</td>\n",
       "    </tr>\n",
       "  </tbody>\n",
       "</table>\n",
       "</div>"
      ],
      "text/plain": [
       "  Month_of_Stop            Reason_for_Stop              Officer_Race  \\\n",
       "0       2017/10  Speeding                                      White   \n",
       "1       2017/10  Vehicle Regulatory                            White   \n",
       "2       2017/10  Vehicle Equipment                             White   \n",
       "3       2017/10  Speeding                   Asian / Pacific Islander   \n",
       "4       2017/10  Safe Movement                                 White   \n",
       "\n",
       "  Officer_Gender  Officer_Years_of_Service Driver_Race Driver_Ethnicity  \\\n",
       "0           Male                       3.0       White     Non-Hispanic   \n",
       "1           Male                       9.0       Black     Non-Hispanic   \n",
       "2           Male                       9.0       Black     Non-Hispanic   \n",
       "3           Male                      21.0       White     Non-Hispanic   \n",
       "4           Male                      19.0       Black     Non-Hispanic   \n",
       "\n",
       "  Driver_Gender  Driver_Age Was_a_Search_Conducted   Result_of_Stop  \\\n",
       "0        Female          22                     No  Citation Issued   \n",
       "1        Female          21                     No  Citation Issued   \n",
       "2        Female          30                     No   Verbal Warning   \n",
       "3          Male          23                    Yes           Arrest   \n",
       "4          Male          26                     No   Verbal Warning   \n",
       "\n",
       "            CMPD_Division  ObjectID              CreationDate      Creator  \\\n",
       "0     Providence Division      1001  2018-06-05T09:01:41.911Z  CharlotteNC   \n",
       "1  Hickory Grove Division      1002  2018-06-05T09:01:41.911Z  CharlotteNC   \n",
       "2          South Division      1003  2018-06-05T09:01:41.911Z  CharlotteNC   \n",
       "3     Providence Division      1004  2018-06-05T09:01:41.911Z  CharlotteNC   \n",
       "4       Westover Division      1005  2018-06-05T09:01:41.911Z  CharlotteNC   \n",
       "\n",
       "                   EditDate       Editor  \n",
       "0  2018-06-05T09:01:41.911Z  CharlotteNC  \n",
       "1  2018-06-05T09:01:41.911Z  CharlotteNC  \n",
       "2  2018-06-05T09:01:41.911Z  CharlotteNC  \n",
       "3  2018-06-05T09:01:41.911Z  CharlotteNC  \n",
       "4  2018-06-05T09:01:41.911Z  CharlotteNC  "
      ]
     },
     "execution_count": 4,
     "metadata": {},
     "output_type": "execute_result"
    }
   ],
   "source": [
    "# Show just the header \n",
    "file_df.head()"
   ]
  },
  {
   "cell_type": "code",
   "execution_count": 7,
   "metadata": {},
   "outputs": [
    {
     "data": {
      "text/plain": [
       "Vehicle Regulatory           46258\n",
       "Speeding                     30886\n",
       "Vehicle Equipment            13471\n",
       "Stop Light/Sign              12116\n",
       "Safe Movement                 7582\n",
       "Investigation                 2665\n",
       "Other                         2649\n",
       "SeatBelt                      1243\n",
       "CheckPoint                     384\n",
       "Driving While Impaired         154\n",
       "Name: Reason_for_Stop, dtype: int64"
      ]
     },
     "execution_count": 7,
     "metadata": {},
     "output_type": "execute_result"
    }
   ],
   "source": [
    "data['Reason_for_Stop'].value_counts()"
   ]
  },
  {
   "cell_type": "code",
   "execution_count": null,
   "metadata": {},
   "outputs": [],
   "source": [
    "ct=pd.crosstab(data['Reason_for_Stop'],data['Officer_Race'])\n",
    "ct"
   ]
  },
  {
   "cell_type": "code",
   "execution_count": null,
   "metadata": {},
   "outputs": [],
   "source": [
    "ct=pd.crosstab(data['Reason_for_Stop'],data['Officer_Race'])\n",
    "sb.heatmap(ct,annot=True,fmt='')"
   ]
  },
  {
   "cell_type": "markdown",
   "metadata": {},
   "source": [
    "# Observation - vast majority of stops by White officers"
   ]
  },
  {
   "cell_type": "code",
   "execution_count": null,
   "metadata": {},
   "outputs": [],
   "source": [
    "ct=pd.crosstab(data['Reason_for_Stop'],data['Officer_Race'],normalize='columns')\n",
    "sb.heatmap(ct,annot=True,fmt='.2f')"
   ]
  },
  {
   "cell_type": "code",
   "execution_count": null,
   "metadata": {},
   "outputs": [],
   "source": [
    "ct=pd.crosstab(data['Reason_for_Stop'],data['Driver_Race'])\n",
    "sb.heatmap(ct,annot=True,fmt='')"
   ]
  },
  {
   "cell_type": "markdown",
   "metadata": {},
   "source": [
    "# Observation - most stops - Black drivers, regulatory"
   ]
  },
  {
   "cell_type": "code",
   "execution_count": null,
   "metadata": {},
   "outputs": [],
   "source": [
    "ct=pd.crosstab(data['Reason_for_Stop'],data['Driver_Race'], normalize='index')\n",
    "sb.heatmap(ct)"
   ]
  },
  {
   "cell_type": "markdown",
   "metadata": {},
   "source": [
    "# Observation -  seatbelt, equipment, regulatory - Black drivers more often\n",
    "# Observation - DUI -White drivers more often  "
   ]
  },
  {
   "cell_type": "code",
   "execution_count": null,
   "metadata": {},
   "outputs": [],
   "source": [
    "ct=pd.crosstab(data['Reason_for_Stop'],data['Driver_Race'], normalize='columns')\n",
    "sb.heatmap(ct,annot=True,fmt='.2f')"
   ]
  },
  {
   "cell_type": "markdown",
   "metadata": {},
   "source": [
    "# Observation - Black drivers stopped primarily for: vehicle refulatory"
   ]
  },
  {
   "cell_type": "markdown",
   "metadata": {},
   "source": []
  },
  {
   "cell_type": "code",
   "execution_count": null,
   "metadata": {},
   "outputs": [],
   "source": [
    "ct=pd.crosstab(data['Reason_for_Stop'],data['Was_a_Search_Conducted'])\n",
    "sb.heatmap(ct,annot=True,fmt='')"
   ]
  },
  {
   "cell_type": "code",
   "execution_count": null,
   "metadata": {},
   "outputs": [],
   "source": [
    "ct=pd.crosstab(data['Reason_for_Stop'],data['Was_a_Search_Conducted'],normalize='index')\n",
    "sb.heatmap(ct,annot=True)"
   ]
  },
  {
   "cell_type": "markdown",
   "metadata": {},
   "source": [
    "# Observation - Search on DUI stop - 53/47\n"
   ]
  },
  {
   "cell_type": "code",
   "execution_count": null,
   "metadata": {},
   "outputs": [],
   "source": [
    "ct=pd.crosstab(data['Reason_for_Stop'],data['Result_of_Stop'])\n",
    "sb.heatmap(ct,annot=True,fmt='')"
   ]
  },
  {
   "cell_type": "code",
   "execution_count": null,
   "metadata": {},
   "outputs": [],
   "source": [
    "ct=pd.crosstab(data['Reason_for_Stop'],data['Result_of_Stop'],normalize='index')\n",
    "sb.heatmap(ct,annot=True)"
   ]
  },
  {
   "cell_type": "markdown",
   "metadata": {},
   "source": [
    "# Observation - Speeding - citation in 60% cases. DUI -  arrest in 78%"
   ]
  },
  {
   "cell_type": "code",
   "execution_count": null,
   "metadata": {},
   "outputs": [],
   "source": [
    "ct=pd.crosstab(data['Driver_Race'],data['Was_a_Search_Conducted'])\n",
    "sb.heatmap(ct,annot=True,fmt='')"
   ]
  },
  {
   "cell_type": "code",
   "execution_count": null,
   "metadata": {},
   "outputs": [],
   "source": [
    "ct=pd.crosstab(data['Driver_Race'],data['Was_a_Search_Conducted'],normalize='index')\n",
    "sb.heatmap(ct,annot=True)"
   ]
  },
  {
   "cell_type": "markdown",
   "metadata": {},
   "source": [
    "# Observation - Female officers conduct search as often as male. Male drivers get searched more often"
   ]
  },
  {
   "cell_type": "code",
   "execution_count": null,
   "metadata": {},
   "outputs": [],
   "source": [
    "ct=pd.crosstab(data['Officer_Gender'],data['Was_a_Search_Conducted'],normalize='index')\n",
    "sb.heatmap(ct,annot=True)"
   ]
  },
  {
   "cell_type": "code",
   "execution_count": null,
   "metadata": {},
   "outputs": [],
   "source": [
    "ct=pd.crosstab(data['Driver_Gender'],data['Was_a_Search_Conducted'],normalize='index')\n",
    "sb.heatmap(ct,annot=True)"
   ]
  },
  {
   "cell_type": "code",
   "execution_count": null,
   "metadata": {},
   "outputs": [],
   "source": [
    "ct=pd.crosstab(data['Month'],data['Result_of_Stop'])\n",
    "sb.heatmap(ct,annot=True,fmt='')"
   ]
  },
  {
   "cell_type": "code",
   "execution_count": null,
   "metadata": {},
   "outputs": [],
   "source": [
    "ct=pd.crosstab(data['Month'],data['Result_of_Stop'],normalize='columns')\n",
    "sb.heatmap(ct,annot=True)"
   ]
  },
  {
   "cell_type": "code",
   "execution_count": null,
   "metadata": {},
   "outputs": [],
   "source": [
    "ct=pd.crosstab(data['Driver_Race'],data['Officer_Race'])\n",
    "sb.heatmap(ct)"
   ]
  },
  {
   "cell_type": "code",
   "execution_count": null,
   "metadata": {},
   "outputs": [],
   "source": [
    "ct=pd.crosstab(data['Driver_Race'],data['Officer_Race'],normalize='columns')\n",
    "sb.heatmap(ct)"
   ]
  },
  {
   "cell_type": "code",
   "execution_count": null,
   "metadata": {},
   "outputs": [],
   "source": [
    "ct=pd.crosstab(data['Result_of_Stop'],data['Officer_Race'])\n",
    "sb.heatmap(ct)"
   ]
  },
  {
   "cell_type": "code",
   "execution_count": null,
   "metadata": {},
   "outputs": [],
   "source": [
    "ct=pd.crosstab(data['Result_of_Stop'],data['Officer_Race'], normalize='columns')\n",
    "sb.heatmap(ct)"
   ]
  },
  {
   "cell_type": "code",
   "execution_count": null,
   "metadata": {},
   "outputs": [],
   "source": [
    "ct=pd.crosstab(data['Result_of_Stop'],data['Officer_Race'], normalize='index')\n",
    "sb.heatmap(ct)"
   ]
  },
  {
   "cell_type": "code",
   "execution_count": null,
   "metadata": {},
   "outputs": [],
   "source": [
    "ct=pd.crosstab(data['Result_of_Stop'],data['Driver_Race'])\n",
    "sb.heatmap(ct)"
   ]
  },
  {
   "cell_type": "code",
   "execution_count": null,
   "metadata": {},
   "outputs": [],
   "source": [
    "ct=pd.crosstab(data['Result_of_Stop'],data['Driver_Race'], normalize='columns')\n",
    "sb.heatmap(ct)"
   ]
  },
  {
   "cell_type": "code",
   "execution_count": null,
   "metadata": {},
   "outputs": [],
   "source": [
    "ct=pd.crosstab(data['Result_of_Stop'],data['CMPD_Division'])\n",
    "sb.heatmap(ct)"
   ]
  },
  {
   "cell_type": "code",
   "execution_count": null,
   "metadata": {},
   "outputs": [],
   "source": [
    "ct=pd.crosstab(data['Result_of_Stop'],data['CMPD_Division'],normalize='columns')\n",
    "sb.heatmap(ct)"
   ]
  },
  {
   "cell_type": "markdown",
   "metadata": {},
   "source": [
    "# Observation - South and Providence Division does most the speeding tickets and more often than others. North Tryon does regulatory a lot and often"
   ]
  },
  {
   "cell_type": "code",
   "execution_count": null,
   "metadata": {},
   "outputs": [],
   "source": [
    "ct=pd.crosstab(data['Reason_for_Stop'],data['CMPD_Division'])\n",
    "sb.heatmap(ct)"
   ]
  },
  {
   "cell_type": "code",
   "execution_count": null,
   "metadata": {},
   "outputs": [],
   "source": [
    "ct=pd.crosstab(data['Reason_for_Stop'],data['CMPD_Division'],normalize='columns')\n",
    "sb.heatmap(ct)"
   ]
  },
  {
   "cell_type": "markdown",
   "metadata": {},
   "source": [
    "# Observation - Metro division stops Black more often. South and Providence divisions stop most and most often White."
   ]
  },
  {
   "cell_type": "code",
   "execution_count": null,
   "metadata": {},
   "outputs": [],
   "source": [
    "ct=pd.crosstab(data['Driver_Race'],data['CMPD_Division'])\n",
    "sb.heatmap(ct)"
   ]
  },
  {
   "cell_type": "code",
   "execution_count": null,
   "metadata": {},
   "outputs": [],
   "source": [
    "ct=pd.crosstab(data['Driver_Race'],data['CMPD_Division'], normalize='columns')\n",
    "sb.heatmap(ct)"
   ]
  },
  {
   "cell_type": "code",
   "execution_count": null,
   "metadata": {},
   "outputs": [],
   "source": [
    "ct=pd.crosstab(data['Officer_Race'],data['CMPD_Division'])\n",
    "sb.heatmap(ct)"
   ]
  },
  {
   "cell_type": "code",
   "execution_count": null,
   "metadata": {},
   "outputs": [],
   "source": [
    "ct=pd.crosstab(data['Officer_Race'],data['CMPD_Division'])\n",
    "sb.heatmap(ct)"
   ]
  },
  {
   "cell_type": "code",
   "execution_count": null,
   "metadata": {},
   "outputs": [],
   "source": [
    "ct=pd.crosstab(data['Reason_for_Stop'],data['Month'])\n",
    "sb.heatmap(ct)"
   ]
  },
  {
   "cell_type": "code",
   "execution_count": null,
   "metadata": {},
   "outputs": [],
   "source": [
    "ct=pd.crosstab(data['Reason_for_Stop'],data['Month'],normalize='index')\n",
    "sb.heatmap(ct)"
   ]
  },
  {
   "cell_type": "code",
   "execution_count": null,
   "metadata": {},
   "outputs": [],
   "source": [
    "ct=pd.crosstab(data['CMPD_Division'],data['Month'])\n",
    "sb.heatmap(ct)"
   ]
  },
  {
   "cell_type": "code",
   "execution_count": null,
   "metadata": {},
   "outputs": [],
   "source": [
    "data.groupby('Officer_Gender').boxplot(column='Officer_Years_of_Service', by='Reason_for_Stop',rot=30, figsize=(15,5))"
   ]
  },
  {
   "cell_type": "code",
   "execution_count": null,
   "metadata": {},
   "outputs": [],
   "source": [
    "data.groupby('Officer_Gender').boxplot(column='Officer_Years_of_Service', by='Officer_Race',rot=30,figsize=(15,5))"
   ]
  },
  {
   "cell_type": "code",
   "execution_count": null,
   "metadata": {},
   "outputs": [],
   "source": [
    "data.boxplot(column='Officer_Years_of_Service', by='Officer_Gender', rot=30,figsize=(15,5))"
   ]
  },
  {
   "cell_type": "code",
   "execution_count": null,
   "metadata": {
    "scrolled": true
   },
   "outputs": [],
   "source": [
    "data.groupby('Officer_Gender').boxplot(column='Officer_Years_of_Service', by='Driver_Race', rot=30,figsize=(15,5))"
   ]
  },
  {
   "cell_type": "markdown",
   "metadata": {},
   "source": [
    "# Observation - Officers get \"kinder\" with experience, men get \"kinder\" than women.\n",
    "# Observation - Arrests are conducted by officers with less years of service"
   ]
  },
  {
   "cell_type": "code",
   "execution_count": null,
   "metadata": {},
   "outputs": [],
   "source": [
    "ct=pd.crosstab(data['Officer_Gender'],data['Was_a_Search_Conducted'])\n",
    "sb.heatmap(ct, annot=True, fmt='')"
   ]
  },
  {
   "cell_type": "code",
   "execution_count": null,
   "metadata": {},
   "outputs": [],
   "source": [
    "data.groupby('Officer_Gender').boxplot(column='Officer_Years_of_Service', by='Was_a_Search_Conducted', rot=30,figsize=(15,5))"
   ]
  },
  {
   "cell_type": "code",
   "execution_count": null,
   "metadata": {},
   "outputs": [],
   "source": [
    "data.groupby('Officer_Gender').boxplot(column='Officer_Years_of_Service', by='Result_of_Stop', rot=30,figsize=(15,5))"
   ]
  },
  {
   "cell_type": "code",
   "execution_count": null,
   "metadata": {},
   "outputs": [],
   "source": [
    "data.groupby('Officer_Gender').boxplot(column='Officer_Years_of_Service', by='CMPD_Division', rot=30,figsize=(15,5))"
   ]
  },
  {
   "cell_type": "code",
   "execution_count": null,
   "metadata": {},
   "outputs": [],
   "source": [
    "data.groupby('Driver_Gender').boxplot(column='Driver_Age', by='Result_of_Stop', rot=30,figsize=(15,5))"
   ]
  },
  {
   "cell_type": "code",
   "execution_count": null,
   "metadata": {},
   "outputs": [],
   "source": [
    "data.groupby('Driver_Gender').boxplot(column='Driver_Age', by='Reason_for_Stop', rot=30,figsize=(15,5))"
   ]
  },
  {
   "cell_type": "markdown",
   "metadata": {},
   "source": [
    "# DUI - more women in 40s and older get stopped, than man"
   ]
  },
  {
   "cell_type": "code",
   "execution_count": null,
   "metadata": {},
   "outputs": [],
   "source": []
  },
  {
   "cell_type": "code",
   "execution_count": null,
   "metadata": {},
   "outputs": [],
   "source": []
  },
  {
   "cell_type": "code",
   "execution_count": null,
   "metadata": {},
   "outputs": [],
   "source": [
    "file_df.nunique()"
   ]
  },
  {
   "cell_type": "code",
   "execution_count": null,
   "metadata": {},
   "outputs": [],
   "source": []
  },
  {
   "cell_type": "code",
   "execution_count": null,
   "metadata": {},
   "outputs": [],
   "source": [
    "sb.pairplot(data)"
   ]
  },
  {
   "cell_type": "code",
   "execution_count": null,
   "metadata": {},
   "outputs": [],
   "source": []
  }
 ],
 "metadata": {
  "anaconda-cloud": {},
  "kernelspec": {
   "display_name": "Python 3",
   "language": "python",
   "name": "python3"
  },
  "language_info": {
   "codemirror_mode": {
    "name": "ipython",
    "version": 3
   },
   "file_extension": ".py",
   "mimetype": "text/x-python",
   "name": "python",
   "nbconvert_exporter": "python",
   "pygments_lexer": "ipython3",
   "version": "3.6.4"
  }
 },
 "nbformat": 4,
 "nbformat_minor": 2
}
